{
 "cells": [
  {
   "cell_type": "code",
   "execution_count": 2,
   "metadata": {},
   "outputs": [],
   "source": [
    "import gpmap\n",
    "import gpgraph\n",
    "import gpvolve\n",
    "import itertools\n",
    "import random\n",
    "import numpy as np\n",
    "import math\n",
    "import gzip, pickle, pickletools\n",
    "import networkx as nx\n",
    "import copy\n",
    "from gpgraph import get_neighbors\n",
    "import epistasis\n",
    "\n",
    "%matplotlib inline\n",
    "from matplotlib import pyplot as plt\n",
    "\n",
    "def generate_genotypes(alphabet,L):\n",
    "    data = [''.join(v) for v in list(itertools.product(alphabet,repeat=L))]\n",
    "    return data"
   ]
  },
  {
   "cell_type": "markdown",
   "metadata": {},
   "source": [
    "# Comparison of maps with and without high-order epistasis"
   ]
  },
  {
   "cell_type": "code",
   "execution_count": 3,
   "metadata": {},
   "outputs": [
    {
     "name": "stderr",
     "output_type": "stream",
     "text": [
      "D:\\Anaconda\\envs\\testpypi\\lib\\site-packages\\sklearn\\base.py:213: FutureWarning: From version 0.24, get_params will raise an AttributeError if a parameter cannot be retrieved as an instance attribute. Previously it would return None.\n",
      "  FutureWarning)\n",
      "D:\\Anaconda\\envs\\testpypi\\lib\\site-packages\\epistasis\\matrix.py:86: VisibleDeprecationWarning: Creating an ndarray from ragged nested sequences (which is a list-or-tuple of lists-or-tuples-or ndarrays with different lengths or shapes) is deprecated. If you meant to do this, you must specify 'dtype=object' when creating the ndarray\n",
      "  sites = np.array([np.array(s) for s in sites])\n",
      "D:\\Anaconda\\envs\\testpypi\\lib\\site-packages\\epistasis\\matrix.py:86: VisibleDeprecationWarning: Creating an ndarray from ragged nested sequences (which is a list-or-tuple of lists-or-tuples-or ndarrays with different lengths or shapes) is deprecated. If you meant to do this, you must specify 'dtype=object' when creating the ndarray\n",
      "  sites = np.array([np.array(s) for s in sites])\n",
      "D:\\Anaconda\\envs\\testpypi\\lib\\site-packages\\epistasis\\matrix.py:86: VisibleDeprecationWarning: Creating an ndarray from ragged nested sequences (which is a list-or-tuple of lists-or-tuples-or ndarrays with different lengths or shapes) is deprecated. If you meant to do this, you must specify 'dtype=object' when creating the ndarray\n",
      "  sites = np.array([np.array(s) for s in sites])\n"
     ]
    },
    {
     "name": "stdout",
     "output_type": "stream",
     "text": [
      "[ 2.65620443 -0.23093334 -0.43415435  0.98528859  0.98632689 -0.3508666\n",
      "  1.63306365 -1.74992108]\n",
      "1.0\n"
     ]
    },
    {
     "data": {
      "image/png": "[encoded data removed]",
      "text/plain": [
       "<Figure size 144x216 with 2 Axes>"
      ]
     },
     "metadata": {
      "needs_background": "light"
     },
     "output_type": "display_data"
    }
   ],
   "source": [
    "from gpmap import GenotypePhenotypeMap\n",
    "from epistasis.models import EpistasisLinearRegression\n",
    "from epistasis.pyplot import plot_coefs\n",
    "\n",
    "\n",
    "# The data\n",
    "wildtype = \"000\"\n",
    "genotypes = generate_genotypes('01',3)\n",
    "# phenotypes = [ 0.366, -0.593,  1.595, -0.753,  0.38 ,  1.296,  1.025, -0.519]\n",
    "phenotypes = np.random.normal(size=len(genotypes))\n",
    "\n",
    "# Make it binary - phenotype < 0 is inviable (variable, take your pick)\n",
    "# threshold mapping between phenotype and fitness\n",
    "\n",
    "\n",
    "gpm = GenotypePhenotypeMap(wildtype, genotypes, phenotypes)\n",
    "\n",
    "# Initialize a model\n",
    "model = EpistasisLinearRegression(order=3)\n",
    "model.add_gpm(gpm)\n",
    "\n",
    "# Fit the model\n",
    "model.fit()\n",
    "print(model.predict(genotypes))\n",
    "print(model.score())\n",
    "fig, ax = plot_coefs(model, figsize=(2,3))\n",
    "plt.show()"
   ]
  },
  {
   "cell_type": "markdown",
   "metadata": {},
   "source": [
    "### Predicting phenotypes that have zero higher-order epistasis"
   ]
  },
  {
   "cell_type": "code",
   "execution_count": 4,
   "metadata": {},
   "outputs": [
    {
     "name": "stderr",
     "output_type": "stream",
     "text": [
      "D:\\Anaconda\\envs\\testpypi\\lib\\site-packages\\epistasis\\matrix.py:86: VisibleDeprecationWarning: Creating an ndarray from ragged nested sequences (which is a list-or-tuple of lists-or-tuples-or ndarrays with different lengths or shapes) is deprecated. If you meant to do this, you must specify 'dtype=object' when creating the ndarray\n",
      "  sites = np.array([np.array(s) for s in sites])\n"
     ]
    },
    {
     "data": {
      "text/plain": [
       "array([ 2.65620443, -0.23093334, -0.43415435,  0.98528859,  0.98632689,\n",
       "       -0.3508666 ,  1.63306365, -1.74992108])"
      ]
     },
     "execution_count": 4,
     "metadata": {},
     "output_type": "execute_result"
    }
   ],
   "source": [
    "model.predict(genotypes)"
   ]
  },
  {
   "cell_type": "code",
   "execution_count": 5,
   "metadata": {},
   "outputs": [
    {
     "name": "stdout",
     "output_type": "stream",
     "text": [
      "[ 0.59326829  1.54765484  1.27358532 -0.6111399   2.60156808  0.04389107\n",
      " -0.38775094  0.75459063]\n",
      "1.0\n"
     ]
    },
    {
     "name": "stderr",
     "output_type": "stream",
     "text": [
      "D:\\Anaconda\\envs\\testpypi\\lib\\site-packages\\epistasis\\matrix.py:86: VisibleDeprecationWarning: Creating an ndarray from ragged nested sequences (which is a list-or-tuple of lists-or-tuples-or ndarrays with different lengths or shapes) is deprecated. If you meant to do this, you must specify 'dtype=object' when creating the ndarray\n",
      "  sites = np.array([np.array(s) for s in sites])\n",
      "D:\\Anaconda\\envs\\testpypi\\lib\\site-packages\\sklearn\\base.py:213: FutureWarning: From version 0.24, get_params will raise an AttributeError if a parameter cannot be retrieved as an instance attribute. Previously it would return None.\n",
      "  FutureWarning)\n",
      "D:\\Anaconda\\envs\\testpypi\\lib\\site-packages\\epistasis\\matrix.py:86: VisibleDeprecationWarning: Creating an ndarray from ragged nested sequences (which is a list-or-tuple of lists-or-tuples-or ndarrays with different lengths or shapes) is deprecated. If you meant to do this, you must specify 'dtype=object' when creating the ndarray\n",
      "  sites = np.array([np.array(s) for s in sites])\n",
      "D:\\Anaconda\\envs\\testpypi\\lib\\site-packages\\epistasis\\matrix.py:86: VisibleDeprecationWarning: Creating an ndarray from ragged nested sequences (which is a list-or-tuple of lists-or-tuples-or ndarrays with different lengths or shapes) is deprecated. If you meant to do this, you must specify 'dtype=object' when creating the ndarray\n",
      "  sites = np.array([np.array(s) for s in sites])\n",
      "D:\\Anaconda\\envs\\testpypi\\lib\\site-packages\\epistasis\\matrix.py:86: VisibleDeprecationWarning: Creating an ndarray from ragged nested sequences (which is a list-or-tuple of lists-or-tuples-or ndarrays with different lengths or shapes) is deprecated. If you meant to do this, you must specify 'dtype=object' when creating the ndarray\n",
      "  sites = np.array([np.array(s) for s in sites])\n"
     ]
    },
    {
     "data": {
      "image/png": "[encoded data removed]",
      "text/plain": [
       "<Figure size 144x216 with 2 Axes>"
      ]
     },
     "metadata": {
      "needs_background": "light"
     },
     "output_type": "display_data"
    }
   ],
   "source": [
    "# The data\n",
    "wildtype = \"000\"\n",
    "genotypes = generate_genotypes('01',3)\n",
    "new_phenotypes = model.predict(genotypes)\n",
    "new_phenotypes = [ 0.59326829,  1.54765484,  1.27358532, -0.6111399,   2.60156808, 0.04389107,\n",
    " -0.38775094,  0.75459063]\n",
    "\n",
    "gpm = GenotypePhenotypeMap(wildtype, genotypes, new_phenotypes)\n",
    "\n",
    "# Initialize a model\n",
    "model2 = EpistasisLinearRegression(order=3)\n",
    "model2.add_gpm(gpm)\n",
    "\n",
    "# Fit the model\n",
    "model2.fit()\n",
    "print(model2.predict(genotypes))\n",
    "print(model2.score())\n",
    "fig, ax = plot_coefs(model2, figsize=(2,3))\n",
    "plt.show()"
   ]
  },
  {
   "cell_type": "markdown",
   "metadata": {},
   "source": [
    "## Plotting the number of accessible trajectories with and without higher order epistasis"
   ]
  },
  {
   "cell_type": "code",
   "execution_count": 6,
   "metadata": {},
   "outputs": [],
   "source": [
    "def simulate_and_check_trajectories_w_high_order_epistasis(sites = 6, nsim = 100, fraction_viable = 0.2):\n",
    "\n",
    "    \"\"\"\n",
    "    Given the number of sites in a map, the number of simulations \n",
    "    'nsim' to be ran, and fraction of phenotypes that have to be viable\n",
    "    (exclusing target and source), this function determines if there \n",
    "    exists a viable path for each simulation, and then returns the \n",
    "    fraction of maps that contained at least one viable path. \n",
    "    \n",
    "    Parameters\n",
    "    ----------\n",
    "    sites : int\n",
    "            number of sites in genotype-phenotype maps that will be\n",
    "            simulated. Default = 6. \n",
    "    nsim : int\n",
    "           numer of total simulations to be run. Default = 100.\n",
    "    fraction_viable : float\n",
    "                      fraction of viable phenotypes in the map,\n",
    "                      where each phenotype is set to be either\n",
    "                      viable, 1, or inviable, 0.\n",
    "                      Must be a number between 0 and 1. Default = 0.2\n",
    "\n",
    "    Returns\n",
    "    -------\n",
    "    prob : list of floats\n",
    "            fraction of maps that contained at least one viable path.\n",
    "\n",
    "\n",
    "    \"\"\"\n",
    "    \n",
    "    ################################################################################\n",
    "    # Optimized part of simulations\n",
    "    ################################################################################\n",
    "    # Generate the edges that will be added to all barebones DiGraph\n",
    "    # objects. Only needs to be generated once, to create connectivity.\n",
    "\n",
    "    # Simulating a single gpmap as template, same for all. Generate once.\n",
    "    genotypes = generate_genotypes('AB',sites)\n",
    "\n",
    "    # Generate phenotypes around a normal distribution\n",
    "    phenotypes = np.random.normal(size=len(genotypes))\n",
    "    \n",
    "    # Make it binary - phenotype < 0 is inviable (variable, take your pick)\n",
    "    # threshold mapping between phenotype and fitness\n",
    "\n",
    "    gpm = gpmap.GenotypePhenotypeMap(wildtype = genotypes[0],\n",
    "                                     genotypes = genotypes,\n",
    "                                     phenotypes = phenotypes)\n",
    "    \n",
    "    # Declare mutation dict, once\n",
    "    mutations = gpm.mutations\n",
    "    \n",
    "    # Declare indices, once\n",
    "    indices = np.arange(2**sites)\n",
    "\n",
    "    # Genotypes to index, once\n",
    "    m = dict(zip(gpm.genotypes, indices))\n",
    "\n",
    "    # Find edges, once\n",
    "    edges = []\n",
    "    for f in indices:\n",
    "        # Add node to graph\n",
    "        row = gpm.data.loc[f]\n",
    "\n",
    "        # Get edges from node.\n",
    "        neighbors = get_neighbors(row['genotypes'], mutations)\n",
    "        for neighbor in neighbors:\n",
    "            # Check if node is in data.\n",
    "            if neighbor in m:\n",
    "                j = m[neighbor]\n",
    "                edges.append((f, j))\n",
    "    \n",
    "    ################################################################################\n",
    "        \n",
    "    # Array to hold whether a path was found or not  \n",
    "    paths_found = np.zeros(nsim)\n",
    "\n",
    "    # Index of source and target genotypes\n",
    "    source_index = 0\n",
    "    target_index = 2**sites - 1\n",
    "\n",
    "    # Simulate nsim number of barebone gpgraphs\n",
    "    for counter in range(nsim):\n",
    "\n",
    "        # Generate random phenotypes, unique to each graph\n",
    "        # Generate phenotypes around a normal distribution\n",
    "        phenotypes = np.random.normal(size=len(genotypes))\n",
    "        \n",
    "        #########################################\n",
    "        # Second part optimized. Don't need to generate\n",
    "        # a gpgraph or gpmap object every time\n",
    "        #########################################\n",
    "        \n",
    "        # Empty DiGraph object\n",
    "        barebones = nx.DiGraph()\n",
    "        \n",
    "        # Add all nodes\n",
    "        barebones.add_nodes_from(indices)\n",
    "        \n",
    "        # Add edges\n",
    "        barebones.add_edges_from(edges)      \n",
    "        \n",
    "        # Viable nodes from generated phenotypes, unique to each graph\n",
    "        inviable_nodes = np.array(tuple(i for i,v in enumerate(phenotypes) if v > 0))\n",
    "        \n",
    "        # Decide which nodes to remove\n",
    "        nodes_to_remove = np.setdiff1d(np.arange(2**sites), inviable_nodes)\n",
    "        \n",
    "        # Remove nodes from \"nodes_to_remove\"\n",
    "        for q in nodes_to_remove:\n",
    "            barebones.remove_node(q)\n",
    "\n",
    "        #########################################\n",
    "        \n",
    "        # Find strongly connected components\n",
    "        strongly_connected_components = tuple(nx.strongly_connected_components(barebones))      \n",
    "\n",
    "        # Add +1 to a counter if both the source and the target are in one of the connected components\n",
    "        viable_path_exists = 0\n",
    "        for i, v in enumerate(strongly_connected_components):\n",
    "            if source_index in v:\n",
    "                if target_index in v:\n",
    "                    # Just check if at least one viable path exists\n",
    "                    viable_path_exists += 1\n",
    "                    break\n",
    "\n",
    "        # A list of 0's and 1's indicating if a viable path exists for given map\n",
    "        paths_found[counter] = viable_path_exists\n",
    "      \n",
    "    # Prob you will have a viable trajectory out of all simulated genotype-phenotype maps\n",
    "    prob = np.sum(paths_found)/paths_found.size * 100\n",
    "\n",
    "    return prob"
   ]
  },
  {
   "cell_type": "code",
   "execution_count": 7,
   "metadata": {},
   "outputs": [],
   "source": [
    "def generate_data_for_n_sites_w_high_order_epistasis(sites, nsim):\n",
    "    x_data = np.arange(0,1,0.05)\n",
    "    \n",
    "    generated_data = np.zeros(len(x_data))\n",
    "    for counter, value in enumerate(x_data):\n",
    "        generated_data[counter] = simulate_and_check_trajectories_w_high_order_epistasis(sites = sites, \n",
    "                                                                  nsim = nsim, \n",
    "                                                                  fraction_viable = value)\n",
    "        \n",
    "    return generated_data"
   ]
  },
  {
   "cell_type": "code",
   "execution_count": 28,
   "metadata": {},
   "outputs": [],
   "source": [
    "def simulate_and_check_trajectories_no_epistasis(sites = 6, nsim = 100, fraction_viable = 0.2):\n",
    "\n",
    "    \"\"\"\n",
    "    Given the number of sites in a map, the number of simulations \n",
    "    'nsim' to be ran, and fraction of phenotypes that have to be viable\n",
    "    (exclusing target and source), this function determines if there \n",
    "    exists a viable path for each simulation, and then returns the \n",
    "    fraction of maps that contained at least one viable path. \n",
    "    \n",
    "    Parameters\n",
    "    ----------\n",
    "    sites : int\n",
    "            number of sites in genotype-phenotype maps that will be\n",
    "            simulated. Default = 6. \n",
    "    nsim : int\n",
    "           numer of total simulations to be run. Default = 100.\n",
    "    fraction_viable : float\n",
    "                      fraction of viable phenotypes in the map,\n",
    "                      where each phenotype is set to be either\n",
    "                      viable, 1, or inviable, 0.\n",
    "                      Must be a number between 0 and 1. Default = 0.2\n",
    "\n",
    "    Returns\n",
    "    -------\n",
    "    prob : list of floats\n",
    "            fraction of maps that contained at least one viable path.\n",
    "\n",
    "\n",
    "    \"\"\"\n",
    "    \n",
    "    ################################################################################\n",
    "    # Optimized part of simulations\n",
    "    ################################################################################\n",
    "    # Generate the edges that will be added to all barebones DiGraph\n",
    "    # objects. Only needs to be generated once, to create connectivity.\n",
    "\n",
    "    # Simulating a single gpmap as template, same for all. Generate once.\n",
    "    genotypes = generate_genotypes('AB',sites)\n",
    "\n",
    "    # Generate phenotypes around a normal distribution\n",
    "    phenotypes = np.random.normal(size=len(genotypes))\n",
    "    \n",
    "    # Make it binary - phenotype < 0 is inviable (variable, take your pick)\n",
    "    # threshold mapping between phenotype and fitness\n",
    "\n",
    "    gpm = gpmap.GenotypePhenotypeMap(wildtype = genotypes[0],\n",
    "                                     genotypes = genotypes,\n",
    "                                     phenotypes = phenotypes)\n",
    "    \n",
    "    # Find phenotypes without epistasis, once\n",
    "    # Initialize a model\n",
    "    model = EpistasisLinearRegression(order=sites)\n",
    "    model.add_gpm(gpm)\n",
    "\n",
    "    # Fit the model\n",
    "    model.fit()\n",
    "\n",
    "    # Overwrite phenotypes\n",
    "    phenotypes = model.predict(genotypes)\n",
    "\n",
    "    # Declare mutation dict, once\n",
    "    mutations = gpm.mutations\n",
    "\n",
    "    # Declare indices, once\n",
    "    indices = np.arange(2**sites)\n",
    "\n",
    "    # Genotypes to index, once\n",
    "    m = dict(zip(gpm.genotypes, indices))\n",
    "\n",
    "    # Find edges, once\n",
    "    edges = []\n",
    "    for f in indices:\n",
    "        # Add node to graph\n",
    "        row = gpm.data.loc[f]\n",
    "\n",
    "        # Get edges from node.\n",
    "        neighbors = get_neighbors(row['genotypes'], mutations)\n",
    "        for neighbor in neighbors:\n",
    "            # Check if node is in data.\n",
    "            if neighbor in m:\n",
    "                j = m[neighbor]\n",
    "                edges.append((f, j))\n",
    "    \n",
    "    ################################################################################\n",
    "        \n",
    "    # Array to hold whether a path was found or not  \n",
    "    paths_found = np.zeros(nsim)\n",
    "\n",
    "    # Index of source and target genotypes\n",
    "    source_index = 0\n",
    "    target_index = 2**sites - 1\n",
    "\n",
    "    # Simulate nsim number of barebone gpgraphs\n",
    "    for counter in range(nsim):\n",
    "\n",
    "        # Generate random phenotypes, unique to each graph\n",
    "        phenotypes = np.random.normal(size=len(genotypes))\n",
    "\n",
    "        #########################################\n",
    "        #########################################\n",
    "        # TEMPORARY, INEFFICIENT WAY OF FINDING\n",
    "        # PHENOTYPES WITHOUT EPISTASIS, FOR NOW\n",
    "        #########################################\n",
    "        #########################################\n",
    "        gpm = gpmap.GenotypePhenotypeMap(wildtype = genotypes[0],\n",
    "                                 genotypes = genotypes,\n",
    "                                 phenotypes = phenotypes)\n",
    "    \n",
    "        # Find phenotypes without epistasis, once\n",
    "        # Initialize a model\n",
    "        model = EpistasisLinearRegression(order=sites)\n",
    "        model.add_gpm(gpm)\n",
    "\n",
    "        # Fit the model\n",
    "        model.fit()\n",
    "\n",
    "        # Overwrite phenotypes\n",
    "        phenotypes = model.predict(genotypes)\n",
    "        #########################################\n",
    "        #########################################\n",
    "        \n",
    "        \n",
    "        #########################################\n",
    "        # Second part optimized. Don't need to generate\n",
    "        # a gpgraph or gpmap object every time\n",
    "        #########################################\n",
    "        \n",
    "        # Empty DiGraph object\n",
    "        barebones = nx.DiGraph()\n",
    "        \n",
    "        # Add all nodes\n",
    "        barebones.add_nodes_from(indices)\n",
    "        \n",
    "        # Add edges\n",
    "        barebones.add_edges_from(edges)      \n",
    "        \n",
    "        # Viable nodes from generated phenotypes, unique to each graph\n",
    "        inviable_nodes = np.array(tuple(i for i,v in enumerate(phenotypes) if v > 0))\n",
    "        \n",
    "        # Decide which nodes to remove\n",
    "        nodes_to_remove = np.setdiff1d(np.arange(2**sites), inviable_nodes)\n",
    "        \n",
    "        # Remove nodes from \"nodes_to_remove\"\n",
    "        for q in nodes_to_remove:\n",
    "            barebones.remove_node(q)\n",
    "\n",
    "        #########################################\n",
    "        \n",
    "        # Find strongly connected components\n",
    "        strongly_connected_components = tuple(nx.strongly_connected_components(barebones))      \n",
    "\n",
    "        # Add +1 to a counter if both the source and the target are in one of the connected components\n",
    "        viable_path_exists = 0\n",
    "        for i, v in enumerate(strongly_connected_components):\n",
    "            if source_index in v:\n",
    "                if target_index in v:\n",
    "                    # Just check if at least one viable path exists\n",
    "                    viable_path_exists += 1\n",
    "                    break\n",
    "\n",
    "        # A list of 0's and 1's indicating if a viable path exists for given map\n",
    "        paths_found[counter] = viable_path_exists\n",
    "      \n",
    "    # Prob you will have a viable trajectory out of all simulated genotype-phenotype maps\n",
    "    prob = np.sum(paths_found)/paths_found.size * 100\n",
    "\n",
    "    return prob"
   ]
  },
  {
   "cell_type": "code",
   "execution_count": 29,
   "metadata": {},
   "outputs": [],
   "source": [
    "def generate_data_for_n_sites_no_epistasis(sites, nsim):\n",
    "    x_data = np.arange(0,1,0.05)\n",
    "    \n",
    "    generated_data = np.zeros(len(x_data))\n",
    "    for counter, value in enumerate(x_data):\n",
    "        generated_data[counter] = simulate_and_check_trajectories_w_high_order_epistasis(sites = sites, \n",
    "                                                                  nsim = nsim, \n",
    "                                                                  fraction_viable = value)\n",
    "        \n",
    "    return generated_data"
   ]
  },
  {
   "cell_type": "code",
   "execution_count": 30,
   "metadata": {},
   "outputs": [
    {
     "name": "stdout",
     "output_type": "stream",
     "text": [
      "Wall time: 156 ms\n"
     ]
    },
    {
     "data": {
      "text/plain": [
       "17.599999999999998"
      ]
     },
     "execution_count": 30,
     "metadata": {},
     "output_type": "execute_result"
    }
   ],
   "source": [
    "%%time\n",
    "simulate_and_check_trajectories_w_high_order_epistasis(sites=4,nsim=500,fraction_viable=0.25)"
   ]
  },
  {
   "cell_type": "code",
   "execution_count": 32,
   "metadata": {},
   "outputs": [],
   "source": [
    "# %%time\n",
    "# import warnings\n",
    "# warnings.filterwarnings(\"ignore\", category=np.VisibleDeprecationWarning) \n",
    "# with warnings.catch_warnings():  \n",
    "#     warnings.filterwarnings(\"ignore\",category=FutureWarning)\n",
    "    \n",
    "    \n",
    "# simulate_and_check_trajectories_no_epistasis(sites=4,nsim=50,fraction_viable=0.25)"
   ]
  },
  {
   "cell_type": "markdown",
   "metadata": {},
   "source": [
    "## Comparing graph with and without high order epistasis for 5-site map"
   ]
  },
  {
   "cell_type": "code",
   "execution_count": 38,
   "metadata": {},
   "outputs": [],
   "source": [
    "four_sites_whole = generate_data_for_n_sites_w_high_order_epistasis(sites=4, nsim=100)\n",
    "five_sites_whole = generate_data_for_n_sites_w_high_order_epistasis(sites=5, nsim=100)"
   ]
  },
  {
   "cell_type": "code",
   "execution_count": 39,
   "metadata": {},
   "outputs": [],
   "source": [
    "four_sites_no_epistasis = generate_data_for_n_sites_no_epistasis(sites=4, nsim=100)\n",
    "five_sites_no_epistasis = generate_data_for_n_sites_no_epistasis(sites=5, nsim=100)"
   ]
  },
  {
   "cell_type": "code",
   "execution_count": 41,
   "metadata": {},
   "outputs": [
    {
     "data": {
      "text/plain": [
       "<matplotlib.legend.Legend at 0x1df86d38fd0>"
      ]
     },
     "execution_count": 41,
     "metadata": {},
     "output_type": "execute_result"
    },
    {
     "data": {
      "image/png": "[encoded data removed]",
      "text/plain": [
       "<Figure size 576x360 with 1 Axes>"
      ]
     },
     "metadata": {
      "needs_background": "light"
     },
     "output_type": "display_data"
    }
   ],
   "source": [
    "# Define x_data\n",
    "# sites_2 = generate_data_for_n_sites_opt(2,1000)\n",
    "x_data = np.arange(0,1,0.05)\n",
    "plt.figure(figsize =(8,5))\n",
    "#Plot of raw data, residuals, and fit model, along with label and legend\n",
    "plt.plot(x_data, four_sites_whole, 'p-', label = \"four_sites_whole\")\n",
    "plt.plot(x_data, five_sites_whole, 'p-', label = \"five_sites_whole\")\n",
    "\n",
    "\n",
    "# plt.plot(x_data, sites_3, 's-', label = \"Three sites\")\n",
    "# plt.plot(x_data, sites_4, 'o-', label = \"Four sites\")\n",
    "plt.plot(x_data, four_sites_no_epistasis, 'd-', label = \"four_sites_no_epistasis\")\n",
    "plt.plot(x_data, five_sites_no_epistasis, 'd-', label = \"five_sites_no_epistasis\")\n",
    "\n",
    "\n",
    "# plt.plot(x_data, sites_6, '^-', label = \"Six sites\")\n",
    "# plt.plot(x_data, sites_7, 'o-', label = \"Seven sites\")\n",
    "# plt.plot(x_data, sites_8, 'p-', label = \"Eight sites\")\n",
    "# plt.plot(x_data, sites_9, 's-', label = \"Nine sites\")\n",
    "# plt.plot(x_data, sites_10, '^-', label = \"Ten sites\")\n",
    "# plt.plot(x_data, sites_11, 'o-', label = \"Eleven sites\")\n",
    "# plt.plot(x_data, sites_12, 'd-', label = \"Twelve sites\")\n",
    "# plt.plot(x_data, sites_13, 'p-', label = \"Thirteen sites\")\n",
    "# plt.plot(x_data, sites_14, 'o-', label = \"Fourteen sites\")\n",
    "# plt.plot(x_data, sites_15, 's-', label = \"Fifteen sites\")\n",
    "# plt.plot(x_data, sites_16, '^-', label = \"Sixteen sites\")\n",
    "\n",
    "\n",
    "# plt.plot(x_data, six_sites, 'or-.', label = \"Six sites\")\n",
    "plt.title(\"Number of simulations per data point: 100\")\n",
    "plt.ylabel(\"Probability a trajectory exists\\n between ancestor and derived\")\n",
    "plt.xlabel(\"Fraction of viable genotypes\")\n",
    "plt.legend()\n",
    "# plt.show()\n",
    "# plt.savefig('data/graph.svg')"
   ]
  },
  {
   "cell_type": "markdown",
   "metadata": {},
   "source": [
    "## Calculating data for main graph\n",
    "\n",
    "$$ \\text{\"Accessibility\"} = \\frac{\\text{# of trajectories that exist without high-order epistasis present}}{\\text{# of trajectories in the whole map}} $$\n"
   ]
  },
  {
   "cell_type": "markdown",
   "metadata": {},
   "source": [
    "#### Notes:\n",
    "* 100 simulations per data point\n",
    "* Fraction viable = 0.2"
   ]
  },
  {
   "cell_type": "code",
   "execution_count": 42,
   "metadata": {},
   "outputs": [
    {
     "name": "stdout",
     "output_type": "stream",
     "text": [
      "Wall time: 12.7 s\n"
     ]
    }
   ],
   "source": [
    "%%time\n",
    "traj_without_high_order_epistasis = generate_data_for_n_sites_no_epistasis(sites = 4,\n",
    "                                                                           nsim = 1000)\n",
    "traj_of_whole_map = generate_data_for_n_sites_w_high_order_epistasis(sites = 4, \n",
    "                                                                     nsim = 1000)\n",
    "accessibility = traj_without_high_order_epistasis/traj_of_whole_map"
   ]
  },
  {
   "cell_type": "code",
   "execution_count": 43,
   "metadata": {},
   "outputs": [
    {
     "data": {
      "text/plain": [
       "[<matplotlib.lines.Line2D at 0x1df880bc3c8>]"
      ]
     },
     "execution_count": 43,
     "metadata": {},
     "output_type": "execute_result"
    },
    {
     "data": {
      "image/png": "[encoded data removed]",
      "text/plain": [
       "<Figure size 432x288 with 1 Axes>"
      ]
     },
     "metadata": {
      "needs_background": "light"
     },
     "output_type": "display_data"
    }
   ],
   "source": [
    "plt.plot(accessibility)"
   ]
  },
  {
   "cell_type": "markdown",
   "metadata": {},
   "source": [
    "# Old code/previous iterations"
   ]
  },
  {
   "cell_type": "code",
   "execution_count": 11,
   "metadata": {},
   "outputs": [],
   "source": [
    "# # Imports\n",
    "# import matplotlib.pyplot as plt\n",
    "\n",
    "# from gpmap import GenotypePhenotypeMap\n",
    "# from epistasis.models import EpistasisLogisticRegression\n",
    "# from epistasis.pyplot import plot_coefs\n",
    "\n",
    "# # The data\n",
    "# wildtype = \"000\"\n",
    "# genotypes = ['000', '001', '010', '011', '100', '101', '110', '111']\n",
    "# phenotypes = [ 0.366, -0.593,  1.595, -0.753,  0.38 ,  1.296,  1.025, -0.519]\n",
    "# gpm = GenotypePhenotypeMap(wildtype, genotypes, phenotypes)\n",
    "\n",
    "# # Threshold\n",
    "# threshold = 1.0\n",
    "\n",
    "# # Initialize a model\n",
    "# model = EpistasisLogisticRegression(threshold=threshold)\n",
    "# model.add_gpm(gpm)\n",
    "\n",
    "# # Fit the model\n",
    "# model.fit()\n",
    "\n",
    "# print(model.score())\n",
    "# fig, ax = plot_coefs(model, figsize=(1,3))\n",
    "# plt.show()"
   ]
  },
  {
   "cell_type": "code",
   "execution_count": null,
   "metadata": {},
   "outputs": [],
   "source": []
  }
 ],
 "metadata": {
  "kernelspec": {
   "display_name": "Testing PyPi Releases",
   "language": "python",
   "name": "testpypi"
  },
  "language_info": {
   "codemirror_mode": {
    "name": "ipython",
    "version": 3
   },
   "file_extension": ".py",
   "mimetype": "text/x-python",
   "name": "python",
   "nbconvert_exporter": "python",
   "pygments_lexer": "ipython3",
   "version": "3.6.10"
  }
 },
 "nbformat": 4,
 "nbformat_minor": 4
}
